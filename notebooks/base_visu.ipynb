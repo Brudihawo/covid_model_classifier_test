{
 "cells": [
  {
   "cell_type": "code",
   "execution_count": null,
   "id": "b409d77c",
   "metadata": {},
   "outputs": [],
   "source": [
    "import pandas as pd\n",
    "import numpy as np\n",
    "import seaborn as sns\n",
    "from statsmodels.tsa.ar_model import AutoReg\n",
    "from statsmodels.tsa.arima.model import ARIMA\n",
    "from matplotlib import pyplot as plt\n",
    "from sklearn.decomposition import PCA\n",
    "from scipy.optimize import minimize\n",
    "from matplotlib import cm"
   ]
  },
  {
   "cell_type": "code",
   "execution_count": null,
   "id": "optional-signature",
   "metadata": {},
   "outputs": [],
   "source": [
    "def exp_model(x, u):\n",
    "    return np.exp(u[0] + u[1] * x) \n",
    "\n",
    "def opt_func(u, x, y):\n",
    "    return np.sum(np.power(exp_model(x, u) - y, 2))"
   ]
  },
  {
   "cell_type": "code",
   "execution_count": null,
   "id": "spread-groove",
   "metadata": {},
   "outputs": [],
   "source": [
    "def generate_models(values, segment_size, init_values=[-2, 1]):\n",
    "    model_params = []\n",
    "    for segment in range(values.shape[0]):\n",
    "        res = minimize(opt_func, np.array(init_values),\n",
    "                       args=(np.linspace(0, segment_size - 1, segment_size), \n",
    "                             values[segment, :]),\n",
    "                       method=\"nelder-mead\")\n",
    "        model_params.append(res.x)\n",
    "        \n",
    "    return model_params"
   ]
  },
  {
   "cell_type": "code",
   "execution_count": null,
   "id": "weighted-solomon",
   "metadata": {},
   "outputs": [],
   "source": [
    "def model_vis_plot(segment_size, model_func, model_params, values):\n",
    "    fig, ax = plt.subplots(2,1, figsize=(15, 9))\n",
    "    for seg in range(values.shape[0]):\n",
    "        ax[0].plot(np.linspace(SEGMENT_SIZE * seg, SEGMENT_SIZE * (seg + 1) - 1, SEGMENT_SIZE ), model_func(np.linspace(0, SEGMENT_SIZE - 1, SEGMENT_SIZE) , model_params[seg]))\n",
    "\n",
    "    ax[1].plot(values.reshape(values.size))\n",
    "    ax[0].set_title(\"Models\")\n",
    "    ax[1].set_title(\"Ground Truth\")\n",
    "    plt.tight_layout()\n",
    "    plt.show()"
   ]
  },
  {
   "cell_type": "code",
   "execution_count": null,
   "id": "7a263951",
   "metadata": {},
   "outputs": [],
   "source": [
    "data = pd.read_csv(\"../data/coviddata.csv\")\n",
    "data"
   ]
  },
  {
   "cell_type": "code",
   "execution_count": null,
   "id": "564c442d",
   "metadata": {},
   "outputs": [],
   "source": [
    "case_numbers = data.groupby([\"Bundesland\", \"Meldedatum\"]).sum()[\"AnzahlFall\"].unstack(level=0).dropna()\n",
    "case_numbers = case_numbers.rolling(7).mean()\n",
    "first_day = pd.to_datetime(case_numbers.index[0])\n",
    "case_numbers = case_numbers.dropna()\n",
    "case_numbers.index = pd.to_datetime(case_numbers.index)\n",
    "case_numbers = case_numbers.sort_index()\n",
    "case_numbers"
   ]
  },
  {
   "cell_type": "code",
   "execution_count": null,
   "id": "acute-sterling",
   "metadata": {},
   "outputs": [],
   "source": [
    "dates = pd.read_table(\"../data/massnahmensdaten_bw.txt\", names=[\"Dates\"])"
   ]
  },
  {
   "cell_type": "code",
   "execution_count": null,
   "id": "great-diversity",
   "metadata": {},
   "outputs": [],
   "source": [
    "dates = pd.to_datetime(dates[\"Dates\"]) - first_day\n",
    "dates = dates.apply(lambda x: x.days)"
   ]
  },
  {
   "cell_type": "code",
   "execution_count": null,
   "id": "oriented-aluminum",
   "metadata": {},
   "outputs": [],
   "source": [
    "SEGMENT_SIZE = 4\n",
    "data_size = case_numbers.shape[0]\n",
    "n_segments = int(np.floor(data_size / SEGMENT_SIZE))\n",
    "trim_data_size = SEGMENT_SIZE * n_segments\n",
    "values = case_numbers[\"Berlin\"].values[:trim_data_size].reshape((n_segments, SEGMENT_SIZE))"
   ]
  },
  {
   "cell_type": "code",
   "execution_count": null,
   "id": "registered-backup",
   "metadata": {},
   "outputs": [],
   "source": [
    "model_params = generate_models(values, SEGMENT_SIZE)"
   ]
  },
  {
   "cell_type": "code",
   "execution_count": null,
   "id": "pressing-membership",
   "metadata": {},
   "outputs": [],
   "source": [
    "model_vis_plot(SEGMENT_SIZE, exp_model, model_params, values)"
   ]
  },
  {
   "cell_type": "code",
   "execution_count": null,
   "id": "framed-proposition",
   "metadata": {},
   "outputs": [],
   "source": [
    "model_params = np.array(model_params)\n",
    "param_df = pd.DataFrame(model_params)#, columns=[\"param1\", \"param2\"])#, \"param3\"])\n",
    "param_df.index.name = \"Segment ID\"\n",
    "stds = param_df.std()\n",
    "means = param_df.mean()\n",
    "no_outliers = param_df[(np.abs(param_df[[i for i in range(2)]] - means) < stds).any(axis=1)]"
   ]
  },
  {
   "cell_type": "code",
   "execution_count": null,
   "id": "available-control",
   "metadata": {
    "scrolled": false
   },
   "outputs": [],
   "source": [
    "fig, ax1 = plt.subplots(figsize=(16, 9))\n",
    "ax2 = ax1.twinx()\n",
    "ax1.plot(no_outliers.index * SEGMENT_SIZE, no_outliers[1].rolling(4).mean(), color=\"tab:orange\")\n",
    "ax1.scatter(no_outliers[1].index * SEGMENT_SIZE, no_outliers[1], marker=\"x\", s=10, color=\"tab:orange\")\n",
    "ax1.set_xlabel(\"segment\")\n",
    "ax1.set_ylabel(\"param0\")\n",
    "#ax2.plot(np.mean(values[(np.abs(param_df[[i for i in range(2)]] - means) < stds).any(axis=1)], axis=1))\n",
    "#ax2.set_ylabel(\"mean cases\")\n",
    "ax2.plot(values.reshape(values.size))\n",
    "ax1.axhline(0, color=\"black\", ls=\"-\")\n",
    "#ax1.vlines(dates, ymin=-1, ymax=1)\n",
    "plt.show()"
   ]
  },
  {
   "cell_type": "code",
   "execution_count": null,
   "id": "excellent-recall",
   "metadata": {},
   "outputs": [],
   "source": [
    "fig, ax1 = plt.subplots(figsize=(16, 9))\n",
    "ax2 = ax1.twinx()\n",
    "ax1.plot(no_outliers.index * SEGMENT_SIZE, no_outliers[0].rolling(3).mean(), color=\"tab:orange\")\n",
    "ax1.scatter(no_outliers[0].index * SEGMENT_SIZE, no_outliers[0], marker=\"x\", s=10, color=\"tab:orange\")\n",
    "ax1.set_xlabel(\"segment\")\n",
    "ax1.set_ylabel(\"param1\")\n",
    "ax2.plot(values.reshape(values.size))\n",
    "plt.show()"
   ]
  }
 ],
 "metadata": {
  "kernelspec": {
   "display_name": "Python 3",
   "language": "python",
   "name": "python3"
  },
  "language_info": {
   "codemirror_mode": {
    "name": "ipython",
    "version": 3
   },
   "file_extension": ".py",
   "mimetype": "text/x-python",
   "name": "python",
   "nbconvert_exporter": "python",
   "pygments_lexer": "ipython3",
   "version": "3.8.5"
  }
 },
 "nbformat": 4,
 "nbformat_minor": 5
}
