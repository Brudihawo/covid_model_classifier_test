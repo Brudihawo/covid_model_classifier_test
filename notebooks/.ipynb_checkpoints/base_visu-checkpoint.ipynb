{
 "cells": [
  {
   "cell_type": "code",
   "execution_count": null,
   "id": "b409d77c",
   "metadata": {},
   "outputs": [],
   "source": [
    "import pandas as pd\n",
    "import numpy as np\n",
    "import seaborn as sns\n",
    "from statsmodels.tsa.ar_model import AutoReg\n",
    "from statsmodels.tsa.arima.model import ARIMA\n",
    "from matplotlib import pyplot as plt\n",
    "from sklearn.decomposition import PCA"
   ]
  },
  {
   "cell_type": "code",
   "execution_count": null,
   "id": "7a263951",
   "metadata": {},
   "outputs": [],
   "source": [
    "data = pd.read_csv(\"../data/coviddata.csv\")\n",
    "data"
   ]
  },
  {
   "cell_type": "code",
   "execution_count": null,
   "id": "564c442d",
   "metadata": {},
   "outputs": [],
   "source": [
    "case_numbers = data.groupby([\"Bundesland\", \"Meldedatum\"]).sum()[\"AnzahlFall\"].unstack(level=0).fillna(0)\n",
    "case_numbers"
   ]
  },
  {
   "cell_type": "code",
   "execution_count": null,
   "id": "5d7a0c3e",
   "metadata": {},
   "outputs": [],
   "source": [
    "SEGMENT_SIZE = 14\n",
    "data_size = case_numbers.shape[0]\n",
    "n_segments = int(np.floor(data_size / SEGMENT_SIZE))\n",
    "trim_data_size = SEGMENT_SIZE * n_segments\n",
    "values = case_numbers[\"Baden-Württemberg\"].values[:trim_data_size].reshape((SEGMENT_SIZE, n_segments))"
   ]
  },
  {
   "cell_type": "code",
   "execution_count": null,
   "id": "af3a4e17",
   "metadata": {},
   "outputs": [],
   "source": [
    "#test_model = AutoReg(values[:,1],\n",
    "#                     lags=4, trend=\"n\",\n",
    "#                     old_names=False).fit()\n",
    "test_model = ARIMA(values[:,1],\n",
    "                   order=(2, 0, 0), trend=\"n\").fit()\n",
    "pred = test_model.predict(start=0, end=SEGMENT_SIZE)\n",
    "plt.plot(pred, label=\"prediction\")\n",
    "plt.plot(values[:, 0], label=\"reality\")\n",
    "plt.legend()"
   ]
  },
  {
   "cell_type": "code",
   "execution_count": null,
   "id": "08b0fd0f",
   "metadata": {},
   "outputs": [],
   "source": [
    "test_model.params"
   ]
  },
  {
   "cell_type": "code",
   "execution_count": null,
   "id": "d17f2e0c",
   "metadata": {
    "scrolled": true
   },
   "outputs": [],
   "source": [
    "model_params = []\n",
    "for segment in range(values.shape[1]):\n",
    "    model = ARIMA(values[:,segment],\n",
    "                  order=(2, 0, 0), \n",
    "                  trend=\"n\")\n",
    "    fitted_model = model.fit()\n",
    "    model_params.append(fitted_model.params)\n",
    "\n",
    "# Organisation and PCA\n",
    "N_BINS = 3\n",
    "model_params = np.array(model_params)\n",
    "param_df = pd.DataFrame(model_params) #, columns=[\"intercept\", \"param1\", \"param2\", \"param3\", \"param4\"]\n",
    "param_df.index.name = \"Segment ID\"\n",
    "pca = PCA(n_components=3)\n",
    "transformed_params = pd.DataFrame(pca.fit_transform(param_df))\n",
    "transformed_params[\"cases\"] = pd.cut(np.sum(values, axis=0), N_BINS)\n",
    "\n",
    "param_df[\"cases\"] = pd.cut(np.sum(values, axis=0), N_BINS)"
   ]
  },
  {
   "cell_type": "code",
   "execution_count": null,
   "id": "a479cb38",
   "metadata": {},
   "outputs": [],
   "source": [
    "sns.pairplot(param_df, hue=\"cases\")"
   ]
  },
  {
   "cell_type": "code",
   "execution_count": null,
   "id": "7b371f23",
   "metadata": {},
   "outputs": [],
   "source": [
    "sns.pairplot(transformed_params, hue=\"cases\")"
   ]
  },
  {
   "cell_type": "code",
   "execution_count": null,
   "id": "57b37c96",
   "metadata": {},
   "outputs": [],
   "source": []
  }
 ],
 "metadata": {
  "kernelspec": {
   "display_name": "Python 3",
   "language": "python",
   "name": "python3"
  },
  "language_info": {
   "codemirror_mode": {
    "name": "ipython",
    "version": 3
   },
   "file_extension": ".py",
   "mimetype": "text/x-python",
   "name": "python",
   "nbconvert_exporter": "python",
   "pygments_lexer": "ipython3",
   "version": "3.9.1"
  }
 },
 "nbformat": 4,
 "nbformat_minor": 5
}
